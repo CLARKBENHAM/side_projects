{
 "cells": [
  {
   "cell_type": "code",
   "execution_count": 15,
   "metadata": {},
   "outputs": [],
   "source": [
    "import numpy as np\n",
    "import pandas as pd\n",
    "import scipy as sc\n",
    "import sklearn\n",
    "import matplotlib.pyplot as plt"
   ]
  },
  {
   "cell_type": "code",
   "execution_count": 97,
   "metadata": {},
   "outputs": [
    {
     "name": "stdout",
     "output_type": "stream",
     "text": [
      "(100, 10) (100, 10) (100,) (100, 10)\n"
     ]
    }
   ],
   "source": [
    "length = 100\n",
    "possible = 1000\n",
    "valid = 10\n",
    "epsilon_sd = 1\n",
    "#inc time -> add row. NO trends\n",
    "variables = np.random.rand(length, possible)#issue w/ using uniform distribution for rand values? NO; only uniform for errors\n",
    "valid_vars = variables[:, np.random.randint(possible, size = valid)]\n",
    "true_coef = np.random.rand(length, valid)*5 - 2.5\n",
    "y = np.sum(valid_vars * true_coef, axis = 1) + np.random.randn(length)*epsilon_sd \n",
    "ytest = y[-length//10:]#last 10\n",
    "ytrain = y[:-length//10]\n",
    "xtest = variables[-length//10:]\n",
    "xtrain = variables[:-length//10]"
   ]
  },
  {
   "cell_type": "code",
   "execution_count": 93,
   "metadata": {},
   "outputs": [
    {
     "data": {
      "text/plain": [
       "11.232104901986919"
      ]
     },
     "execution_count": 93,
     "metadata": {},
     "output_type": "execute_result"
    }
   ],
   "source": [
    "from sklearn import  linear_model \n",
    "lin_reg = linear_model.LinearRegression().fit(xtrain, ytrain)\n",
    "residuals = lin_reg.predict(xtest) - ytest\n",
    "MSE = np.sum([i**2 for i in residuals])/len(residuals)\n",
    "MSE"
   ]
  },
  {
   "cell_type": "code",
   "execution_count": 95,
   "metadata": {},
   "outputs": [
    {
     "data": {
      "text/plain": [
       "10.59200329005546"
      ]
     },
     "execution_count": 95,
     "metadata": {},
     "output_type": "execute_result"
    }
   ],
   "source": [
    "from sklearn import  linear_model \n",
    "lin_reg = linear_model.LinearRegression().fit(valid_vars[:-length//10], ytrain)\n",
    "residuals = lin_reg.predict(valid_vars[-length//10:]) - ytest\n",
    "MSE = np.sum([i**2 for i in residuals])/len(residuals)\n",
    "MSE"
   ]
  }
 ],
 "metadata": {
  "kernelspec": {
   "display_name": "Python 3",
   "language": "python",
   "name": "python3"
  },
  "language_info": {
   "codemirror_mode": {
    "name": "ipython",
    "version": 3
   },
   "file_extension": ".py",
   "mimetype": "text/x-python",
   "name": "python",
   "nbconvert_exporter": "python",
   "pygments_lexer": "ipython3",
   "version": "3.7.3"
  }
 },
 "nbformat": 4,
 "nbformat_minor": 2
}
