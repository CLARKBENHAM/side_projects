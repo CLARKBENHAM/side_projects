{
 "cells": [
  {
   "cell_type": "markdown",
   "metadata": {},
   "source": [
    "# Union of K intervals\n"
   ]
  },
  {
   "cell_type": "code",
   "execution_count": 1,
   "metadata": {},
   "outputs": [],
   "source": [
    "import matplotlib.pyplot as plt\n",
    "import numpy as np\n",
    "import pandas as pd"
   ]
  },
  {
   "cell_type": "code",
   "execution_count": 296,
   "metadata": {},
   "outputs": [],
   "source": [
    "class union_interval:\n",
    "    def __init__(self, k = 3, epsilon = 0.1, gamma = 0.1, space = [-5,5], noise = 0, const_w = False):\n",
    "        self.intervals = np.sort(np.random.uniform(space[0] + 0.0001,space[1],2*k)).reshape(k,2)#intervals always smaller than sample space\n",
    "        self.ep = epsilon\n",
    "        self.gamma = gamma\n",
    "        self.space = space #[space[0] + 0.0001, space[1] - 0.001]#ensure bu\n",
    "        self.noise = noise\n",
    "        self.const_w = const_w\n",
    "        self.k = k\n",
    "        self.examples = np.array((space[0] - 1, 0, 0)).reshape(1,-1)#will always be ignored\n",
    "\n",
    "    def add_example(self, ex):\n",
    "        if ex.ndim == 1:#1d array\n",
    "            self.examples = np.vstack((self.examples, ex))\n",
    "        elif ex.ndim == 2:#2d array\n",
    "            self.examples = np.concatenate((self.examples, ex), axis =0)#needs to be list\n",
    "            \n",
    "    def bin_search(intervals, i, k = 0):\n",
    "        j = len(intervals)\n",
    "        if j <= 1:\n",
    "            return k\n",
    "        if i < intervals[j//2]:\n",
    "            return bin_search(intervals[:j//2], i, k)\n",
    "        else:\n",
    "            return bin_search(intervals[j//2:], i, k + j//2)\n",
    "        \n",
    "    def in_intervals(intervals, i):\n",
    "        indx = bin_search(intervals[:,0], i)\n",
    "        return intervals[indx, 0] <= i <= intervals[indx, 1]\n",
    "        \n",
    "    def sample(self, m = 1, samp = None, weight = None, label = None):\n",
    "        if m == 1:\n",
    "            samp = samp or np.random.uniform(self.space[0], self.space[1])\n",
    "            weight = float(weight or self.const_w or np.random.uniform(0,1))#wieghts random between 0 and 1\n",
    "            label = label or in_intervals(self.intervals, samp)\n",
    "            self.add_example(np.array((samp, weight, label)))\n",
    "        else:\n",
    "            samples = np.random.uniform(*self.space, m)\n",
    "            weights = np.random.uniform(int(self.const_w), 1, m)\n",
    "            labels = np.array([in_intervals(self.intervals, i) for i in samples])\n",
    "            self.add_example(np.column_stack((samples, weights, labels)))            \n",
    "            \n",
    "    def estimate_intervals(self):\n",
    "        self.examples.view('i8,i8,i8').sort(order=['f1'], axis=0)\n",
    "        made_intervals = [self.examples[:-1,2] != self.examples[1:,2]]#compare labels\n",
    "        startstop = [0] + [i if i %2 == 1 else 0 for i in np.cumsum(made_intervals)]\n",
    "        _, groups = np.unique(startstop, return_inverse = True)#need to exclude 0 group, need to leave in for spaceing\n",
    "        num_vals = max(groups)\n",
    "        indicies = [[] for i in range(num_vals+1)]#list of list of intervals locs [most specific]\n",
    "        for counter, val in enumerate(groups):\n",
    "            indicies[val].append(counter)#appends row index of interval at its group\n",
    "        del indicies[0]\n",
    "        weights = [0]*len(indicies)\n",
    "        for cnter, lst in enumerate(indicies):\n",
    "            weights[cnter] = np.mean(self.examples[lst, 1])\n",
    "        final_indxs = [j for i,j in sorted(zip(weights, indicies), key = lambda x: x[1])][:self.k]\n",
    "        final_intervals = [0]*self.k\n",
    "        for cnt, lst in enumerate(final_indxs):\n",
    "            if len(lst) == 1:\n",
    "                final_intervals[cnt] = [self.examples[lst[0],0]]\n",
    "            else: \n",
    "                final_intervals[cnt] = list((self.examples[lst[0],0], self.examples[lst[-1],0]))#+ self.examples[lst,0][-1]#get's first and last value in index\n",
    "        return final_intervals"
   ]
  },
  {
   "cell_type": "code",
   "execution_count": 297,
   "metadata": {},
   "outputs": [
    {
     "name": "stdout",
     "output_type": "stream",
     "text": [
      "[[1.2619802606701143, 3.4355794916955205], [4.243159826371578], [1.8411280026637487]]\n",
      "[[-3.58729917 -2.46776037]\n",
      " [ 1.03288572  2.47772575]\n",
      " [ 2.89398459  4.63587809]]\n"
     ]
    }
   ],
   "source": [
    "test1 = union_interval()\n",
    "test1.sample(m = 100)\n",
    "print(test1.estimate_intervals())\n",
    "print(test1.intervals)"
   ]
  }
 ],
 "metadata": {
  "kernelspec": {
   "display_name": "Python 3",
   "language": "python",
   "name": "python3"
  },
  "language_info": {
   "codemirror_mode": {
    "name": "ipython",
    "version": 3
   },
   "file_extension": ".py",
   "mimetype": "text/x-python",
   "name": "python",
   "nbconvert_exporter": "python",
   "pygments_lexer": "ipython3",
   "version": "3.7.3"
  }
 },
 "nbformat": 4,
 "nbformat_minor": 2
}
