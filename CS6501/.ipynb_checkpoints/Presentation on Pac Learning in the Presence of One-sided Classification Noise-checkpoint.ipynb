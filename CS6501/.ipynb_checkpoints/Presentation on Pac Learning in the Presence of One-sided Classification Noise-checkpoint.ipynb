{
 "cells": [
  {
   "cell_type": "markdown",
   "metadata": {},
   "source": [
    "# Union of K intervals\n"
   ]
  },
  {
   "cell_type": "code",
   "execution_count": 1,
   "metadata": {},
   "outputs": [],
   "source": [
    "import matplotlib.pyplot as plt\n",
    "import numpy as np\n",
    "import pandas as pd"
   ]
  },
  {
   "cell_type": "code",
   "execution_count": 628,
   "metadata": {},
   "outputs": [],
   "source": [
    "class union_interval:\n",
    "    \"Assumes a uniform distribution of samples\"\n",
    "    def __init__(self, k = 3, epsilon = 0.1, gamma = 0.1, space = [-5,5], noise = 0, exact_n = True, const_w = False):\n",
    "        self.intervals = np.sort(np.random.uniform(space[0] + 0.0001,space[1],2*k)).reshape(k,2)#intervals always smaller than sample space\n",
    "        self.ep = epsilon\n",
    "        self.gamma = gamma\n",
    "        self.space = space #[space[0] + 0.0001, space[1] - 0.001]#ensure bu\n",
    "        self.noise = noise\n",
    "        self.exact_n = exact_n\n",
    "        self.const_w = const_w\n",
    "        self.k = k\n",
    "        self.examples = np.array((space[0] - 1, 0, 0)).reshape(1,-1)#will always be ignored\n",
    "\n",
    "    def add_example(self, ex):\n",
    "        if ex.ndim == 1:#1d array\n",
    "            self.examples = np.vstack((self.examples, ex))\n",
    "        elif ex.ndim == 2:#2d array\n",
    "            self.examples = np.concatenate((self.examples, ex), axis =0)#needs to be list\n",
    "            \n",
    "    def bin_search(intervals, i, k = 0):\n",
    "        j = len(intervals)\n",
    "        if j <= 1:\n",
    "            return k\n",
    "        if i < intervals[j//2]:\n",
    "            return bin_search(intervals[:j//2], i, k)\n",
    "        else:\n",
    "            return bin_search(intervals[j//2:], i, k + j//2)\n",
    "        \n",
    "    def in_intervals(intervals, i):\n",
    "        indx = bin_search(intervals[:,0], i)\n",
    "        return intervals[indx, 0] <= i <= intervals[indx, 1]\n",
    "        \n",
    "    def sample(self, m = 1, samp = None, weight = None, label = None):\n",
    "        if m == 1:\n",
    "            samp = samp or np.random.uniform(self.space[0], self.space[1])#change sampling distribution here\n",
    "            weight = float(weight or self.const_w or np.random.uniform(0,1))#wieghts random between 0 and 1\n",
    "            label = label or in_intervals(self.intervals, samp)\n",
    "            self.add_example(np.array((samp, weight, label)))\n",
    "        else:\n",
    "            samples = np.random.uniform(*self.space, m)#change sampling distribution here\n",
    "            weights = np.random.uniform(int(self.const_w), 1, m)\n",
    "            labels = np.array([in_intervals(self.intervals, i) for i in samples])\n",
    "            self.add_example(np.column_stack((samples, weights, labels)))                   \n",
    "    \n",
    "\n",
    "    def estimate_intervals(self):\n",
    "        #\"Uses tight bounds as else might not be PAC learnable given divergent Distribution?\"\n",
    "        self.examples = self.examples[np.argsort(self.examples[:,0]), :]#might as well keep it sorted\n",
    "        rand = np.random.choice(2, len(self.examples), p = [1-self.noise, self.noise])\n",
    "        permutes = np.array([i if not j else j for i,j in zip(rand, self.examples[:,2])])\n",
    "        permuted_ex = np.concatenate((self.examples[:,:-1], permutes.reshape(-1,1)), 1)\n",
    "        \n",
    "        made_intervals = [permuted_ex[:-1,2] != permuted_ex[1:,2]]#compare labels\n",
    "        startstop = [0] + [i if i %2 == 1 else 0 for i in np.cumsum(made_intervals)]\n",
    "        _, groups = np.unique(startstop, return_inverse = True)#need to exclude 0 group, need to leave in for spaceing\n",
    "        num_vals = max(groups)\n",
    "        indicies = [[] for i in range(num_vals+1)]#list of list of intervals locs [most specific]\n",
    "        for counter, val in enumerate(groups):\n",
    "            indicies[val].append(counter)#appends row index of interval at its group\n",
    "        del indicies[0]\n",
    "        weights = [0]*len(indicies)\n",
    "        for cnter, lst in enumerate(indicies):\n",
    "            weights[cnter] = np.sum(permuted_ex[lst, 1])\n",
    "        final_indxs = [j for i,j in sorted(zip(weights, indicies), key = lambda x: x[0])][-self.k:]#is sorted in ascending order\n",
    "        final_intervals = [0]*self.k\n",
    "#         print(final_indxs, \"\\n\\n\", max([len(i) for i in indicies]))\n",
    "        for cnt, lst in enumerate(final_indxs):\n",
    "            if len(lst) == 1:\n",
    "                final_intervals[cnt] = [permuted_ex[lst[0],0]]\n",
    "            else: \n",
    "                final_intervals[cnt] = list((permuted_ex[lst[0],0], permuted_ex[lst[-1],0]))#+ permuted_ex[lst,0][-1]#get's first and last value in index\n",
    "        return final_intervals, permutes\n",
    "    \n",
    "    def calc_error(self, est = None):\n",
    "        error = 0\n",
    "        if est is None:\n",
    "            est, _ = self.estimate_intervals()\n",
    "        srtest = sorted(est, key = lambda x: x[0])\n",
    "        tru = self.intervals#already sorted\n",
    "        print(srtest,\"\\n\\n\\n\" tru)\n",
    "        \n",
    "        return np.sum([abs(i[0]-j[0])+abs(i[-1] - j[-1]) for i,j in zip(srtest, tru)])\n",
    "        "
   ]
  },
  {
   "cell_type": "code",
   "execution_count": 629,
   "metadata": {},
   "outputs": [
    {
     "name": "stdout",
     "output_type": "stream",
     "text": [
      "[[-3.4136497367221166, -3.0654832822490095], [-2.5520063861571574, -1.2386560930053694], [0.3968125694548865, 0.8171188926840687], [1.2441124370565468, 2.476668846971114], [3.186776638394095, 3.6365483991058642]] [[-2.85409814 -2.74627185]\n",
      " [-2.63908539 -1.21429945]\n",
      " [ 1.19323072  1.32092248]\n",
      " [ 1.38578462  2.53073216]\n",
      " [ 3.21526046  3.7441907 ]]\n"
     ]
    },
    {
     "data": {
      "text/plain": [
       "2.6222820341494466"
      ]
     },
     "execution_count": 629,
     "metadata": {},
     "output_type": "execute_result"
    }
   ],
   "source": [
    "test1 = union_interval(k = 5, noise = 0.3)\n",
    "test1.sample(m = 100)\n",
    "test1.examples = np.delete(test1.examples, 0, 0) \n",
    "est, permutes = test1.estimate_intervals()\n",
    "tru = test1.intervals\n",
    "# print(est, \"\\n\\n\", tru)\n",
    "rand = np.random.choice(2, len(test1.examples), p = [1-0.2, 0.2])\n",
    "test1.calc_error()"
   ]
  },
  {
   "cell_type": "code",
   "execution_count": 424,
   "metadata": {},
   "outputs": [
    {
     "name": "stdout",
     "output_type": "stream",
     "text": [
      "[[-4.97584842  0.30624009  0.        ]\n",
      " [-4.96228386  0.78313426  0.        ]\n",
      " [-4.95293035  0.13395461  0.        ]\n",
      " ...\n",
      " [ 4.94430096  0.54773028  0.        ]\n",
      " [ 4.94669405  0.57810315  0.        ]\n",
      " [ 4.94804463  0.519991    0.        ]]\n"
     ]
    },
    {
     "data": {
      "text/plain": [
       "[[0.23401600681000367, 0.3554720717586344],\n",
       " [-4.3016213418690254, -1.8561120695328794],\n",
       " [0.7978776001982588, 1.4867847251955641],\n",
       " [1.7226033496572066, 1.99198830450214],\n",
       " [-1.7297952673614336, 0.04945146100850639]]"
      ]
     },
     "execution_count": 424,
     "metadata": {},
     "output_type": "execute_result"
    }
   ],
   "source": [
    "test1.noise = 0.2\n",
    "test1.estimate_intervals()"
   ]
  },
  {
   "cell_type": "code",
   "execution_count": 384,
   "metadata": {},
   "outputs": [
    {
     "name": "stdout",
     "output_type": "stream",
     "text": [
      "[[-4.25019392 -2.66335482]\n",
      " [-2.60564533 -2.3774418 ]\n",
      " [-1.60192371  1.31492414]\n",
      " [ 2.09121126  2.76124769]\n",
      " [ 2.96068774  3.35214897]]\n"
     ]
    },
    {
     "data": {
      "text/plain": [
       "563.0"
      ]
     },
     "execution_count": 384,
     "metadata": {},
     "output_type": "execute_result"
    }
   ],
   "source": [
    "print(test1.intervals, \"\\n\\n\\n\", )\n",
    "test1.examples[:,2].sum()"
   ]
  },
  {
   "cell_type": "code",
   "execution_count": 592,
   "metadata": {},
   "outputs": [
    {
     "name": "stdout",
     "output_type": "stream",
     "text": [
      "[0.4862062094209091, 0.1277342608769274, 0.2973466100248844, 10.453868149595763, 0.7735163941276054, 0.7415232575574522, 0.2308225194287039, 4.546082146508479, 0.8059089842021874, 1.9059812275031318, 0.9375328782869627, 0.2370838464452636, 0.9756380417670488, 7.293592188651134, 0.805844787503454, 0.7767896504738471]\n",
      "[2.9175164710060875]\n",
      "[1.9757890227511563, 2.198397668578327]\n",
      "[-0.04068094426130209, 0.5975746327408507]\n",
      "[3.1962063081818304, 4.117412989553102]\n",
      "[-4.020276879394878, -1.3232611948429018]\n",
      "[-4.01872851 -1.28694836]\n",
      "[-0.15623327  0.72201195]\n",
      "[0.86631645 1.26164381]\n",
      "[1.86495468 2.40004413]\n",
      "[3.32379357 4.30403199]\n"
     ]
    },
    {
     "data": {
      "image/png": "[encoded data removed]",
      "text/plain": [
       "<Figure size 1152x288 with 1 Axes>"
      ]
     },
     "metadata": {
      "needs_background": "light"
     },
     "output_type": "display_data"
    }
   ],
   "source": [
    "from matplotlib import colors\n",
    "import matplotlib.transforms as mtransforms\n",
    "import math\n",
    "\n",
    "def plot_union(un_int, name = \"test\"):\n",
    "    fig = plt.figure(figsize = (16, 4))\n",
    "    ax = fig.add_subplot(1,1,1)\n",
    "    ax.spines['left'].set_position('center')\n",
    "    ax.spines['bottom'].set_position('center')\n",
    "    ax.spines['left'].set_color('white')\n",
    "    # Eliminate upper and right axes\n",
    "    ax.spines['right'].set_color('none')\n",
    "    ax.spines['top'].set_color('none')\n",
    "    # Show ticks in the left and lower axes only\n",
    "    ax.xaxis.set_ticks_position('bottom')\n",
    "    ax.get_yaxis().set_visible(False)\n",
    "    plt.xlim(un_int.space)\n",
    "    plt.ylim([-1,1])\n",
    "    clrs = un_int.examples[:,2]\n",
    "    wghts = un_int.examples[:,1]\n",
    "    xvals = un_int.examples[:,0]\n",
    "    cmap = colors.ListedColormap(['red', 'green'])\n",
    "    plt.scatter(xvals,[0]*len(xvals), s = wghts*100/un_int.k, c = clrs, cmap = cmap)#be better as bars not pnts\n",
    "    est_bnds, permutes = un_int.estimate_intervals()\n",
    "    plt.scatter(xvals,[-0.5]*len(xvals), s = wghts*100/un_int.k, c = permutes, cmap = cmap)#be better as bars not pnts\n",
    "    plt_bnds(est_bnds, ax, 'green', 0.2, est= True)\n",
    "    tru_bnds = un_int.intervals\n",
    "    plt_bnds(tru_bnds, ax, 'xkcd:lime', 0.05)\n",
    "    plt.title(f\"Union Bound Prediction vs. Actual of {name}. Error = \")\n",
    "\n",
    "def plt_bnds(tru_bnds, ax, clr, alpha = 0.1, est= False):\n",
    "    trans = mtransforms.blended_transform_factory(ax.transData, ax.transAxes)\n",
    "    for bnd in tru_bnds:\n",
    "        x = np.arange(bnd[0] - 0.000001, bnd[-1] + 0.000001, 0.01)\n",
    "        clr = 'g'\n",
    "        if est:\n",
    "            clr = \"b\"\n",
    "            plt.plot(x, [0.8]*len(x), c = clr)\n",
    "            plt.plot(x, np.sin(x*min(24, 24/abs(bnd[0] - bnd[-1]+0.01)))*0.1+0.9, c = clr)\n",
    "            plt.plot(x, [-0.8]*len(x), c = clr)\n",
    "            plt.plot(x, np.sin(x*min(24, 24/abs(bnd[0] - bnd[-1]+0.01)))*-0.1 - 0.9, c = clr)\n",
    "        plt.axvline(x=bnd[0], c = clr)\n",
    "        plt.axvline(x=bnd[-1], c = clr)\n",
    "        ax.fill_between(x, 0, 1, where= x >= bnd[0],\n",
    "                facecolor=clr, alpha=alpha, transform=trans)#x limited to values between bnds, fills between all valid pnts\n",
    "        \n",
    "plot_union(test1, \"test1\")\n"
   ]
  }
 ],
 "metadata": {
  "kernelspec": {
   "display_name": "Python 3",
   "language": "python",
   "name": "python3"
  },
  "language_info": {
   "codemirror_mode": {
    "name": "ipython",
    "version": 3
   },
   "file_extension": ".py",
   "mimetype": "text/x-python",
   "name": "python",
   "nbconvert_exporter": "python",
   "pygments_lexer": "ipython3",
   "version": "3.7.3"
  }
 },
 "nbformat": 4,
 "nbformat_minor": 2
}
