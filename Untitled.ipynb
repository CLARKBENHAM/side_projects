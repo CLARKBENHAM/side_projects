{
 "cells": [
  {
   "cell_type": "code",
   "execution_count": 2,
   "metadata": {},
   "outputs": [],
   "source": [
    "import numpy as np\n",
    "import pandas as pd\n",
    "import matplotlib.pyplot as plt\n",
    "import random\n",
    "import timeit"
   ]
  },
  {
   "cell_type": "code",
   "execution_count": 3,
   "metadata": {},
   "outputs": [
    {
     "name": "stdout",
     "output_type": "stream",
     "text": [
      "[ True  True  True  True  True  True  True  True]\n"
     ]
    },
    {
     "data": {
      "text/plain": [
       "<BarContainer object of 10 artists>"
      ]
     },
     "execution_count": 3,
     "metadata": {},
     "output_type": "execute_result"
    },
    {
     "data": {
      "image/png": "[encoded data removed]",
      "text/plain": [
       "<Figure size 432x288 with 1 Axes>"
      ]
     },
     "metadata": {
      "needs_background": "light"
     },
     "output_type": "display_data"
    }
   ],
   "source": [
    "hourly_rates = np.random.randint(0, high = 10, size = 10)\n",
    "increasing = hourly_rates[:-1] < hourly_rates[1:]\n",
    "#increasing = increasing + [False]\n",
    "inflect_up = increasing[:-1] < increasing[1:]#not increasing then is increasing\n",
    "inflect_up = [increasing[0]] + inflect_up + [False]\n",
    "print(inflect_up)\n",
    "\n",
    "inflect_down = increasing[:-1] > increasing[1:]\n",
    "inflect_down = inflect_down + [False]\n",
    "#np.append(increasing)\n",
    "\n",
    "#a = [\"black\" if i == j else \"green\" if i else \"red\" for i,j in zip(inflect_up, inflect_down)]\n",
    "a = [\"green\" if i else \"black\" for i in inflect_up]\n",
    "plt.bar(range(10), hourly_rates, color = a)"
   ]
  }
 ],
 "metadata": {
  "kernelspec": {
   "display_name": "Python 3",
   "language": "python",
   "name": "python3"
  },
  "language_info": {
   "codemirror_mode": {
    "name": "ipython",
    "version": 3
   },
   "file_extension": ".py",
   "mimetype": "text/x-python",
   "name": "python",
   "nbconvert_exporter": "python",
   "pygments_lexer": "ipython3",
   "version": "3.7.3"
  }
 },
 "nbformat": 4,
 "nbformat_minor": 2
}
