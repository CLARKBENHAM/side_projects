{
 "cells": [
  {
   "cell_type": "code",
   "execution_count": 63,
   "metadata": {},
   "outputs": [],
   "source": [
    "import numpy as np\n",
    "import pandas as pd\n",
    "import matplotlib.pyplot as plt\n",
    "import scipy as sc\n",
    "import seaborn as sns\n"
   ]
  },
  {
   "cell_type": "code",
   "execution_count": 155,
   "metadata": {},
   "outputs": [],
   "source": [
    "from scipy.stats import norm#will need to import this to run\n",
    "\n",
    "#NOTE: all days are calculated as trading days, so 252 per year\n",
    "class stocks:\n",
    "#     market = Market()\n",
    "    def __init__(self, start_prx = 100, an_vol = 0.20, an_ret = 0.08, dist = norm, cor = 0.5):\n",
    "        #assumes normal distribution\n",
    "        self.start_prx = start_prx\n",
    "        self.an_vol = an_vol\n",
    "        self.an_ret = an_ret\n",
    "        #below might not be true for all dists.\n",
    "        self.ret_dist = dist(loc = an_ret/252, scale = np.sqrt(an_vol/25200))#distribution from which returns are drawn\n",
    "#         self.val_dist, don't know how to include path dependance\n",
    "        self.q_div = 0#quarterly dividend\n",
    "        #currently unused\n",
    "        self.history = np.empty(1)\n",
    "        self.cor = cor\n",
    "        \n",
    "    def inc_time(self, n = 252, reps = 1):\n",
    "        \"return array of historical performance, each row a potential run of same stock\"\n",
    "        daily_rets = self.ret_dist.rvs(size = reps * n).reshape(reps, n)\n",
    "        daily_position = np.cumprod(daily_rets, axis = 0) * self.start_prx\n",
    "        return daily_position\n",
    "\n",
    "\n",
    "class options:\n",
    "    def __init__(self, underlying = stocks(), interest_rates = 0.02, strike = None, days_to_exp = 252, op_type = \"call\"):\n",
    "        self.underlying = underlying\n",
    "        self.interest_rates = interest_rates\n",
    "        self.strike = strike or self.underlying.start_prx\n",
    "        self.days_to_exp = days_to_exp\n",
    "        self.op_type = op_type\n",
    "        \n",
    "    def bs_value(self):\n",
    "        \"assumes that T is in years; an issue?\"\n",
    "        d1 = 1/np.sqrt(self.underlying.an_vol * self.days_to_exp/252) *\\\n",
    "        (np.log(self.underlying.start_prx / self.strike) + (self.underlying.an_ret + self.underlying.an_vol/2)*(self.days_to_exp/252))\n",
    "        #need to fx d2\n",
    "        d2 = d1 - self.underlying.an_vol**0.5 * self.days_to_exp/252\n",
    "        pv_k = self.strike * np.exp(-self.interest_rates * self.days_to_exp / 252)\n",
    "        call_val = norm.cdf(d1) * self.underlying.start_prx - norm.cdf(d2)*pv_k\n",
    "        print(d1, d2, pv_k, call_val)\n",
    "        if self.op_type == \"call\":\n",
    "            return call_val\n",
    "        elif self.op_type == \"put\":\n",
    "            return pv_k - self.underlying.start_rpx + call_val\n",
    "            "
   ]
  },
  {
   "cell_type": "code",
   "execution_count": 156,
   "metadata": {},
   "outputs": [
    {
     "name": "stdout",
     "output_type": "stream",
     "text": [
      "0.7992747695932151 0.7392747695932151 48.76549560141663 3.4168241985666157\n"
     ]
    },
    {
     "data": {
      "text/plain": [
       "3.4168241985666157"
      ]
     },
     "execution_count": 156,
     "metadata": {},
     "output_type": "execute_result"
    }
   ],
   "source": [
    "    \n",
    "s = stocks()\n",
    "hist = s.inc_time(n = 1000, reps = 100)\n",
    "# print(hist)\n",
    "# plt.plot(hist)\n",
    "# print(s.ret_dist.stats(moments = 'mvsk'))\n",
    "# opt = options()\n",
    "# opt.bs_value()\n",
    "\n",
    "s = stocks(start_prx = 52, an_ret = 0.05, an_vol = 0.12**2)\n",
    "opt = options(s, interest_rates = 0.05, strike = 50, days_to_exp = 126, op_type = \"call\")\n",
    "opt.bs_value()"
   ]
  }
 ],
 "metadata": {
  "kernelspec": {
   "display_name": "Python 3",
   "language": "python",
   "name": "python3"
  },
  "language_info": {
   "codemirror_mode": {
    "name": "ipython",
    "version": 3
   },
   "file_extension": ".py",
   "mimetype": "text/x-python",
   "name": "python",
   "nbconvert_exporter": "python",
   "pygments_lexer": "ipython3",
   "version": "3.7.3"
  }
 },
 "nbformat": 4,
 "nbformat_minor": 2
}
